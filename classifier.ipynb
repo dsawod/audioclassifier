{
 "cells": [
  {
   "cell_type": "code",
   "execution_count": 1,
   "metadata": {},
   "outputs": [],
   "source": [
    "import librosa\n",
    "import librosa.display\n",
    "import numpy \n",
    "from glob import glob\n",
    "import matplotlib.pyplot as plt\n",
    "import sklearn as skl\n",
    "from sklearn.preprocessing import StandardScaler\n",
    "from sklearn.decomposition import PCA\n",
    "import csv\n",
    "import json"
   ]
  },
  {
   "cell_type": "code",
   "execution_count": 3,
   "metadata": {},
   "outputs": [],
   "source": [
    "def _writePredictionsTofile(ids, predictions):\n",
    "    with open(\"predictions.csv\", \"w\", newline=\"\") as file:\n",
    "        fieldnames = [\"id\", \"genre\"]\n",
    "        writer = csv.DictWriter(file, fieldnames=fieldnames)\n",
    "        writer.writeheader()\n",
    "        size = len(ids)\n",
    "        for x in range(size):\n",
    "            writer.writerow({\"id\": ids[x], \"genre\": predictions[x]})"
   ]
  },
  {
   "cell_type": "code",
   "execution_count": 2,
   "metadata": {},
   "outputs": [],
   "source": [
    "def _mapTrainFilesIDToGenre():\n",
    "    id_genre_dict = dict()\n",
    "    with open(\"train.csv\", \"r\") as file:\n",
    "        csvFile = csv.reader(file)\n",
    "        for row in csvFile:\n",
    "            id = row[0]\n",
    "            id_len = len(id)\n",
    "            N = 8 - id_len\n",
    "            id = id.rjust(N + len(id), '0')\n",
    "            genre = row[1]\n",
    "            id_genre_dict[id] = genre\n",
    "    \n",
    "    if \"new_id\" in id_genre_dict:\n",
    "\n",
    "        id_genre_dict.pop(\"new_id\")\n",
    "    \n",
    "    return id_genre_dict"
   ]
  },
  {
   "cell_type": "code",
   "execution_count": 3,
   "metadata": {},
   "outputs": [],
   "source": [
    "def _checkLengthOfAudioFiles(data_dir):\n",
    "    audio_files_arr = glob(data_dir + '/*.mp3')\n",
    "    size = len(audio_files_arr)\n",
    "    ls = []\n",
    "    for i in range (size):\n",
    "        audio_data, sr = librosa.load(audio_files_arr[i])\n",
    "        if(len(ls) == 0):\n",
    "            ls.append(len(audio_data))\n",
    "\n",
    "        else:\n",
    "            if ls[0] != len(audio_data):\n",
    "                print(\"data have different size\")\n",
    "                break"
   ]
  },
  {
   "cell_type": "code",
   "execution_count": 4,
   "metadata": {},
   "outputs": [],
   "source": [
    "def _getLowestDuration(data_dir):\n",
    "    audio_files_arr = glob(data_dir + '/*.mp3')\n",
    "    size = len(audio_files_arr)\n",
    "    duration_ls = []\n",
    "    for i in range (size):\n",
    "        audio_data, sr = librosa.load(audio_files_arr[i])\n",
    "        duration = len(audio_data) / sr\n",
    "        duration_ls.append(duration)\n",
    "    \n",
    "    return min(duration_ls)\n"
   ]
  },
  {
   "cell_type": "code",
   "execution_count": 5,
   "metadata": {},
   "outputs": [],
   "source": [
    "#Visualize an STFT power spectrum using default parameters\n",
    "def _specshow(dir):\n",
    "    audio_files_arr = glob(dir + '/*.mp3')\n",
    "    size = len(audio_files_arr)\n",
    "    for i in range(size):\n",
    "        y, sr = librosa.load(audio_files_arr[i], duration=29)\n",
    "        fig, ax = plt.subplots(nrows=2, ncols=1, sharex=True)\n",
    "        D = librosa.amplitude_to_db(np.abs(librosa.stft(y)), ref=np.max)\n",
    "        img = librosa.display.specshow(D, y_axis='linear', x_axis='time',\n",
    "                               sr=sr, ax=ax[0])\n",
    "        ax[0].set(title='Linear-frequency power spectrogram')\n",
    "        ax[0].label_outer()"
   ]
  },
  {
   "cell_type": "code",
   "execution_count": 6,
   "metadata": {},
   "outputs": [],
   "source": [
    "#_specshow(\"small_set\")"
   ]
  },
  {
   "cell_type": "code",
   "execution_count": 6,
   "metadata": {},
   "outputs": [],
   "source": [
    "def _displayMFCC(data_dir,duration):\n",
    "    audio_files_arr = glob(data_dir + '/*.mp3')\n",
    "    size = len(audio_files_arr)\n",
    "    for i in range(size):\n",
    "        y, sr = librosa.load(audio_files_arr[i],duration=duration)\n",
    "\n",
    "        mfcc = librosa.feature.mfcc(y=y, sr=sr)\n",
    "        print(\"MFCC shape\", mfcc.shape)\n",
    "        plt.figure(figsize=(10, 4))\n",
    "        librosa.display.specshow(mfcc, x_axis='time')\n",
    "        plt.colorbar()\n",
    "        plt.title('MFCC')\n",
    "        plt.tight_layout()\n",
    "        "
   ]
  },
  {
   "cell_type": "code",
   "execution_count": 7,
   "metadata": {},
   "outputs": [],
   "source": [
    "def _displayMFCCPCA(data_dir, duration):\n",
    "    audio_files_arr = glob(data_dir + '/*.mp3')\n",
    "    size = len(audio_files_arr)\n",
    "    for i in range(size):\n",
    "        y, sr = librosa.load(audio_files_arr[i],duration=duration)\n",
    "        mfcc = librosa.feature.mfcc(y=y, sr=sr)\n",
    "        scaler = StandardScaler()\n",
    "        mfcc_rescaled = scaler.fit_transform(mfcc)\n",
    "        pca = PCA(n_components = 0.999)\n",
    "        pca.fit(mfcc_rescaled)\n",
    "        print(\"PCA components: \",len(pca.components_))\n",
    "        print(\"Explained variance: \",pca.explained_variance_)\n",
    "        reduced_mfcc = pca.transform(mfcc_rescaled)\n",
    "        print(\"Reduced Mfcc: \", reduced_mfcc.shape)\n",
    "        librosa.display.specshow(reduced_mfcc, x_axis='time')\n",
    "        plt.colorbar()\n",
    "        plt.title('MFCC PCA')\n",
    "        plt.tight_layout()"
   ]
  },
  {
   "cell_type": "code",
   "execution_count": 8,
   "metadata": {},
   "outputs": [],
   "source": [
    "def _getPCAComponentLs(data_dir,duration):\n",
    "    audio_files_arr = glob(data_dir + '/*.mp3')\n",
    "    size = len(audio_files_arr)\n",
    "    ls = []\n",
    "    for i in range(size):\n",
    "        y, sr = librosa.load(audio_files_arr[i],duration=duration)\n",
    "        mfcc = librosa.feature.mfcc(y=y, sr=sr)\n",
    "        scaler = StandardScaler()\n",
    "        mfcc_rescaled = scaler.fit_transform(mfcc)\n",
    "        pca = PCA(n_components = 0.999)\n",
    "        pca.fit(mfcc_rescaled)\n",
    "        \n",
    "        reduced_mfcc = pca.transform(mfcc_rescaled)\n",
    "        ls.append(len(pca.components_))\n",
    "    return ls\n"
   ]
  },
  {
   "cell_type": "code",
   "execution_count": 8,
   "metadata": {},
   "outputs": [],
   "source": [
    "#Not necessary cuz get lowest duration takes care of this\n",
    "#_checkLengthOfAudioFiles(\"train\")"
   ]
  },
  {
   "cell_type": "code",
   "execution_count": 9,
   "metadata": {},
   "outputs": [],
   "source": [
    "#duration_to_read = _getLowestDuration(\"train\")\n",
    "#29.976598639455784"
   ]
  },
  {
   "cell_type": "code",
   "execution_count": 4,
   "metadata": {},
   "outputs": [],
   "source": [
    "duration_to_read = 29"
   ]
  },
  {
   "cell_type": "code",
   "execution_count": null,
   "metadata": {},
   "outputs": [],
   "source": [
    "#mfcc_component_ls = _getPCAComponentLs(\"train\",duration_to_read)"
   ]
  },
  {
   "cell_type": "code",
   "execution_count": 10,
   "metadata": {},
   "outputs": [],
   "source": [
    "def _getPCAComponentCENS(data_dir,duration):\n",
    "    audio_files_arr = glob(data_dir + '/*.mp3')\n",
    "    size = len(audio_files_arr)\n",
    "    ls = []\n",
    "    for i in range(size):\n",
    "        y, sr = librosa.load(audio_files_arr[i],duration=duration)\n",
    "        chroma_cens = librosa.feature.chroma_cens(y=y, sr=sr)\n",
    "        scaler = StandardScaler()\n",
    "        cens_rescaled = scaler.fit_transform(chroma_cens)\n",
    "        pca = PCA(n_components = 0.999)\n",
    "        pca.fit(cens_rescaled)\n",
    "        \n",
    "        reduced_cens = pca.transform(cens_rescaled)\n",
    "        ls.append(len(pca.components_))\n",
    "    return ls"
   ]
  },
  {
   "cell_type": "code",
   "execution_count": null,
   "metadata": {},
   "outputs": [],
   "source": [
    "#cens_component_ls = _getPCAComponentCENS(\"train\", duration_to_read)"
   ]
  },
  {
   "cell_type": "code",
   "execution_count": null,
   "metadata": {},
   "outputs": [],
   "source": [
    "#_displayMFCC(\"small_set\",duration_to_read)\n"
   ]
  },
  {
   "cell_type": "code",
   "execution_count": null,
   "metadata": {},
   "outputs": [],
   "source": [
    "#_displayMFCCPCA(\"small_set\", duration_to_read)"
   ]
  },
  {
   "cell_type": "code",
   "execution_count": 5,
   "metadata": {},
   "outputs": [],
   "source": [
    "MFCC_COMPONENTS = 17\n",
    "CENS_COMPONENTS = 11"
   ]
  },
  {
   "cell_type": "code",
   "execution_count": 34,
   "metadata": {},
   "outputs": [],
   "source": [
    "def _saveMFCCToJSon(data_dir,duration, id_class_dict):\n",
    "  jason_data = {\n",
    "      \"mfccs\": [],\n",
    "      \"labels\": []\n",
    "  }\n",
    "  audio_files_arr = glob(data_dir + '/*.mp3')\n",
    "  size = len(audio_files_arr)\n",
    "  for i in range(size):\n",
    "    audio_path = audio_files_arr[i]                 \n",
    "    id = audio_path[6:14]           \n",
    "    y, sr = librosa.load(audio_path,duration=duration)\n",
    "    mfcc = librosa.feature.mfcc(y=y, sr=sr)\n",
    "    scaler = StandardScaler()\n",
    "    mfcc_rescaled = scaler.fit_transform(mfcc)\n",
    "    pca = PCA(n_components = MFCC_COMPONENTS)\n",
    "    pca.fit(mfcc_rescaled)\n",
    "    reduced_mfcc = pca.transform(mfcc_rescaled)\n",
    "\n",
    "    jason_data[\"mfccs\"].append(reduced_mfcc.tolist())\n",
    "    genre = id_class_dict[id]\n",
    "    jason_data[\"labels\"].append(genre)\n",
    "\n",
    "  with open('mfcc.json', \"w\") as json_file:\n",
    "    json.dump(jason_data, json_file, indent = 2)"
   ]
  },
  {
   "cell_type": "code",
   "execution_count": 13,
   "metadata": {},
   "outputs": [],
   "source": [
    "def _saveCENSToJson(data_dir,duration, id_class_dict):\n",
    "  jason_data = {\n",
    "      \"cens\": [],\n",
    "      \"labels\": []\n",
    "  }\n",
    "  audio_files_arr = glob(data_dir + '/*.mp3')\n",
    "  size = len(audio_files_arr)\n",
    "  for i in range(size):\n",
    "    audio_path = audio_files_arr[i]                 \n",
    "    id = audio_path[6:14]           \n",
    "    y, sr = librosa.load(audio_path,duration=duration)\n",
    "    chroma = librosa.feature.chroma_cens(y=y, sr=sr)\n",
    "    scaler = StandardScaler()\n",
    "    chroma_rescaled = scaler.fit_transform(chroma)\n",
    "    pca = PCA(n_components = CENS_COMPONENTS)\n",
    "    pca.fit(chroma_rescaled)\n",
    "    cens = pca.transform(chroma_rescaled)\n",
    "\n",
    "    jason_data[\"cens\"].append(cens.tolist())\n",
    "    genre = id_class_dict[id]\n",
    "    jason_data[\"labels\"].append(genre)\n",
    "\n",
    "  with open('cens.json', \"w\") as json_file:\n",
    "    json.dump(jason_data, json_file, indent = 2)"
   ]
  },
  {
   "cell_type": "code",
   "execution_count": null,
   "metadata": {},
   "outputs": [],
   "source": [
    "def _saveTestMFCCToJSon(data_dir,duration):\n",
    "  jason_data = {\n",
    "      \"mfccs\": [],\n",
    "      \"ids\": []\n",
    "  }\n",
    "  audio_files_arr = glob(data_dir + '/*.mp3')\n",
    "  size = len(audio_files_arr)\n",
    "  for i in range(size):\n",
    "    audio_path = audio_files_arr[i]                 \n",
    "    id = audio_path[5:13]           \n",
    "    print(audio_path)\n",
    "    print(id)\n",
    "    y, sr = librosa.load(audio_path,duration=duration)\n",
    "    mfcc = librosa.feature.mfcc(y=y, sr=sr)\n",
    "    scaler = StandardScaler()\n",
    "    mfcc_rescaled = scaler.fit_transform(mfcc)\n",
    "    pca = PCA(n_components = MFCC_COMPONENTS)\n",
    "    pca.fit(mfcc_rescaled)\n",
    "    reduced_mfcc = pca.transform(mfcc_rescaled)\n",
    "\n",
    "    jason_data[\"mfccs\"].append(reduced_mfcc.tolist())\n",
    "    jason_data[\"ids\"].append(id)\n",
    "\n",
    "  with open('mfcc_test.json', \"w\") as json_file:\n",
    "    json.dump(jason_data, json_file, indent = 2)"
   ]
  },
  {
   "cell_type": "code",
   "execution_count": null,
   "metadata": {},
   "outputs": [],
   "source": [
    "def _saveTestCENSToJson(data_dir,duration):\n",
    "  jason_data = {\n",
    "      \"cens\": [],\n",
    "      \"ids\": []\n",
    "  }\n",
    "  audio_files_arr = glob(data_dir + '/*.mp3')\n",
    "  size = len(audio_files_arr)\n",
    "  for i in range(size):\n",
    "    audio_path = audio_files_arr[i]                 \n",
    "    id = audio_path[5:13]           \n",
    "    y, sr = librosa.load(audio_path,duration=duration)\n",
    "    chroma = librosa.feature.chroma_cens(y=y, sr=sr)\n",
    "    scaler = StandardScaler()\n",
    "    chroma_rescaled = scaler.fit_transform(chroma)\n",
    "    pca = PCA(n_components = CENS_COMPONENTS)\n",
    "    pca.fit(chroma_rescaled)\n",
    "    cens = pca.transform(chroma_rescaled)\n",
    "\n",
    "    jason_data[\"cens\"].append(cens.tolist())\n",
    "    jason_data[\"ids\"].append(id)\n",
    "\n",
    "  with open('cens_test.json', \"w\") as json_file:\n",
    "    json.dump(jason_data, json_file, indent = 2)"
   ]
  },
  {
   "cell_type": "code",
   "execution_count": 5,
   "metadata": {},
   "outputs": [],
   "source": [
    "id_class_dict = _mapTrainFilesIDToGenre()"
   ]
  },
  {
   "cell_type": "code",
   "execution_count": null,
   "metadata": {},
   "outputs": [],
   "source": [
    "# _saveMFCCToJSon(\"train\",duration_to_read, id_class_dict)"
   ]
  },
  {
   "cell_type": "code",
   "execution_count": null,
   "metadata": {},
   "outputs": [],
   "source": [
    "# _saveCENSToJson(\"train\",duration_to_read, id_class_dict)"
   ]
  },
  {
   "cell_type": "code",
   "execution_count": null,
   "metadata": {},
   "outputs": [],
   "source": [
    "def _getCENSTestData():\n",
    "  with open('./cens_test.json', \"r\") as file:\n",
    "    data = json.load(file)\n",
    "  \n",
    "  mfccs = numpy.array(data[\"cens\"])\n",
    "  ids = data[\"ids\"]\n",
    "  x,y,z = mfccs.shape\n",
    "  X = mfccs.reshape(x, y*z)\n",
    "\n",
    "  return X,ids"
   ]
  },
  {
   "cell_type": "code",
   "execution_count": null,
   "metadata": {},
   "outputs": [],
   "source": [
    "def _getCENSTrainingData():\n",
    "  with open('./cens.json', \"r\") as file:\n",
    "    data = json.load(file)\n",
    "  \n",
    "  mfccs = numpy.array(data[\"cens\"])\n",
    "  y_train = numpy.array(data[\"labels\"])\n",
    "  x,y,z = mfccs.shape\n",
    "  X = mfccs.reshape(x, y*z)\n",
    "\n",
    "  return X,y_train"
   ]
  },
  {
   "cell_type": "code",
   "execution_count": null,
   "metadata": {},
   "outputs": [],
   "source": [
    "def _getMFCCTrainingData():\n",
    "  with open('./mfcc.json', \"r\") as file:\n",
    "    data = json.load(file)\n",
    "  \n",
    "  mfccs = numpy.array(data[\"mfccs\"])\n",
    "  y_train = numpy.array(data[\"labels\"])\n",
    "  x,y,z = mfccs.shape\n",
    "  X = mfccs.reshape(x, y*z)\n",
    "\n",
    "  return X,y_train"
   ]
  },
  {
   "cell_type": "code",
   "execution_count": null,
   "metadata": {},
   "outputs": [],
   "source": [
    "def _getMFCCTestData():\n",
    "  with open('./mfcc_test.json', \"r\") as file:\n",
    "    data = json.load(file)\n",
    "  \n",
    "  mfccs = numpy.array(data[\"mfccs\"])\n",
    "  ids = data[\"id\"]\n",
    "  x,y,z = mfccs.shape\n",
    "  X = mfccs.reshape(x, y*z)\n",
    "\n",
    "  return X,ids"
   ]
  },
  {
   "cell_type": "code",
   "execution_count": null,
   "metadata": {},
   "outputs": [],
   "source": [
    "#_saveTestMFCCToJSon(\"test\",duration_to_read)\n",
    "#_saveTestCENSToJson(\"test\",duration_to_read)"
   ]
  },
  {
   "cell_type": "markdown",
   "metadata": {},
   "source": [
    "# Part 1: Data Processing and Representation"
   ]
  },
  {
   "cell_type": "markdown",
   "metadata": {},
   "source": [
    "## 1.1 Representing data as a time series "
   ]
  },
  {
   "cell_type": "code",
   "execution_count": 2,
   "metadata": {},
   "outputs": [
    {
     "name": "stderr",
     "output_type": "stream",
     "text": [
      "/nfs/MLClass/MADT/project3/project3Venv/lib/python3.6/site-packages/librosa/util/decorators.py:88: UserWarning: PySoundFile failed. Trying audioread instead.\n",
      "  return f(*args, **kwargs)\n",
      "/nfs/MLClass/MADT/project3/project3Venv/lib/python3.6/site-packages/ipykernel_launcher.py:14: FutureWarning: Pass sr=22050 as keyword args. From version 0.10 passing these as positional arguments will result in an error\n",
      "  \n"
     ]
    },
    {
     "data": {
      "text/plain": [
       "(-1.0, 1.0)"
      ]
     },
     "execution_count": 2,
     "metadata": {},
     "output_type": "execute_result"
    },
    {
     "data": {
      "image/png": "[encoded data removed]",
      "text/plain": [
       "<Figure size 432x288 with 1 Axes>"
      ]
     },
     "metadata": {
      "needs_background": "light"
     },
     "output_type": "display_data"
    },
    {
     "data": {
      "image/png": "[encoded data removed]",
      "text/plain": [
       "<Figure size 432x288 with 1 Axes>"
      ]
     },
     "metadata": {
      "needs_background": "light"
     },
     "output_type": "display_data"
    }
   ],
   "source": [
    "# Returns audio time series as a numpy array \n",
    "# default rate(sr) or 22KHZ\n",
    "# Sample rate (sr) = the number of samples of audio carried per second, measured in Hz or kHz.\n",
    "sample_path = './small_set/00907483.mp3'\n",
    "x, sr = librosa.load(sample_path)\n",
    "# print(type(x), type(sr))\n",
    "# print(x.shape, sr)\n",
    "\n",
    "start, end = 7, 17\n",
    "\n",
    "# Compute and display signal time series \n",
    "# From: https://nbviewer.org/github/mdeff/fma/blob/outputs/usage.ipynb\n",
    "# waveshow documentation: http://librosa.org/doc/0.8.1/generated/librosa.display.waveshow.html#librosa.display.waveshow \n",
    "librosa.display.waveshow(x, sr, alpha=0.5)\n",
    "plt.vlines([start, end], -1, 1)\n",
    "\n",
    "start = len(x) // 2\n",
    "plt.figure()\n",
    "plt.plot(x[start:start+2000])\n",
    "plt.ylim((-1, 1))"
   ]
  },
  {
   "cell_type": "markdown",
   "metadata": {},
   "source": [
    "## 1.2 Representing data as images (spectrograms)"
   ]
  },
  {
   "cell_type": "code",
   "execution_count": 13,
   "metadata": {},
   "outputs": [
    {
     "data": {
      "image/png": "[encoded data removed]",
      "text/plain": [
       "<Figure size 432x288 with 1 Axes>"
      ]
     },
     "metadata": {
      "needs_background": "light"
     },
     "output_type": "display_data"
    }
   ],
   "source": [
    "# Compute and display spectrogram\n",
    "# From: https://nbviewer.org/github/mdeff/fma/blob/outputs/usage.ipynb\n",
    "\n",
    "stft = numpy.abs(librosa.stft(x, n_fft=2048, hop_length=512))\n",
    "mel = librosa.feature.melspectrogram(sr=sr, S=stft**2)\n",
    "log_mel = librosa.amplitude_to_db(mel)\n",
    "\n",
    "librosa.display.specshow(log_mel, sr=sr, hop_length=512, x_axis='time', y_axis='mel');"
   ]
  },
  {
   "cell_type": "markdown",
   "metadata": {},
   "source": [
    "## 1.3 Representing data [...]"
   ]
  },
  {
   "cell_type": "markdown",
   "metadata": {},
   "source": [
    "I will work on this part! -Mari"
   ]
  },
  {
   "cell_type": "code",
   "execution_count": null,
   "metadata": {},
   "outputs": [],
   "source": []
  },
  {
   "cell_type": "markdown",
   "metadata": {},
   "source": [
    "# Part 2: Classification"
   ]
  },
  {
   "cell_type": "markdown",
   "metadata": {},
   "source": [
    "Load training data as X_train and y_train"
   ]
  },
  {
   "cell_type": "markdown",
   "metadata": {},
   "source": [
    "Load test data as X_test and y_test"
   ]
  },
  {
   "cell_type": "markdown",
   "metadata": {},
   "source": [
    "## 2.1 SVM"
   ]
  },
  {
   "cell_type": "code",
   "execution_count": 30,
   "metadata": {},
   "outputs": [],
   "source": [
    "from tensorflow import keras\n",
    "from scikeras.wrappers import KerasClassifier\n",
    "from tensorflow.keras.utils import to_categorical\n",
    "from tensorflow.keras import Sequential\n",
    "from tensorflow.keras.layers import Dense\n",
    "from sklearn.model_selection import cross_val_score\n",
    "from sklearn.model_selection import KFold\n",
    "from sklearn.metrics import confusion_matrix\n",
    "from sklearn import svm\n",
    "from sklearn.model_selection import cross_val_predict"
   ]
  },
  {
   "cell_type": "code",
   "execution_count": 6,
   "metadata": {},
   "outputs": [],
   "source": [
    "X_train_mfcc,Y_train_mfcc = _getMFCCTrainingData()\n",
    "X_test_mfcc, mfcc_ids = _getMFCCTestData()"
   ]
  },
  {
   "cell_type": "code",
   "execution_count": 7,
   "metadata": {},
   "outputs": [],
   "source": [
    "# SVC Linear from SciKit Learn\n",
    "def _getLinearSVCPredictions():\n",
    "   svm_linear = skl.svm.LinearSVC(C = 0.01, dual = False, penalty = 'l1', tol = 1e-3, max_iter=3000)\n",
    "   kf = KFold(n_splits=5, shuffle=True)\n",
    "   scores = cross_val_score(svm_linear, X_train_mfcc, Y_train_mfcc, cv=kf)\n",
    "   print(\"%0.2f accuracy with a standard deviation of %0.2f\" % (scores.mean()*100, scores.std()*100))\n",
    "   cv_preds = []\n",
    "   for train_index, test_index in kf.split(X_train_mfcc):\n",
    "      X_train, X_test = X_train_mfcc[train_index], X_train_mfcc[test_index]\n",
    "      y_train, y_test = Y_train_mfcc[train_index], Y_train_mfcc[test_index]\n",
    "      svm_linear.fit(X_train,y_train)\n",
    "      predictions = cross_val_predict(svm_linear, X_test, y_test, cv=kf)\n",
    "      cv_preds.append(predictions)\n",
    "   \n",
    "   lsvc_predictions = numpy.array(cv_preds).flatten()\n",
    "   linear_svc_cm = confusion_matrix(Y_train_mfcc,lsvc_predictions)\n",
    "   print(linear_svc_cm)\n",
    "\n",
    "   svm_linear.fit(X_train_mfcc,Y_train_mfcc)\n",
    "   predictions = svm_linear.predict(X_test_mfcc)\n",
    "   return predictions"
   ]
  },
  {
   "cell_type": "code",
   "execution_count": 8,
   "metadata": {},
   "outputs": [
    {
     "name": "stdout",
     "output_type": "stream",
     "text": [
      "44.42 accuracy with a standard deviation of 2.12\n",
      "[[ 95  39  66  50  81  69]\n",
      " [ 91  29  49  61  81  89]\n",
      " [101  68  29  57  73  72]\n",
      " [ 90  40  44  58  72  96]\n",
      " [ 80  48  30  63  83  96]\n",
      " [ 81  44  64  36  74 101]]\n"
     ]
    }
   ],
   "source": [
    "linear_svc_preds = _getLinearSVCPredictions()"
   ]
  },
  {
   "cell_type": "code",
   "execution_count": 14,
   "metadata": {},
   "outputs": [],
   "source": [
    "def _getSVCPredictions():\n",
    "   svc = svm.SVC(decision_function_shape='ovo')\n",
    "   kf = KFold(n_splits=5, shuffle=True)\n",
    "   scores = cross_val_score(svc, X_train_mfcc, Y_train_mfcc, cv=kf)\n",
    "   print(\"%0.2f accuracy with a standard deviation of %0.2f\" % (scores.mean()*100, scores.std()*100))\n",
    "   cv_preds = []\n",
    "   for train_index, test_index in kf.split(X_train_mfcc):\n",
    "      X_train, X_test = X_train_mfcc[train_index], X_train_mfcc[test_index]\n",
    "      y_train, y_test = Y_train_mfcc[train_index], Y_train_mfcc[test_index]\n",
    "      svc.fit(X_train,y_train)\n",
    "      predictions = cross_val_predict(svc, X_test, y_test, cv=kf)\n",
    "      cv_preds.append(predictions)\n",
    "   \n",
    "   cv_predictions = numpy.array(cv_preds).flatten()\n",
    "   svc_cm = confusion_matrix(Y_train_mfcc,cv_predictions)\n",
    "   print(svc_cm)\n",
    "\n",
    "   svc.fit(X_train_mfcc,Y_train_mfcc)\n",
    "   predictions = svc.predict(X_test_mfcc)\n",
    "\n",
    "   return predictions"
   ]
  },
  {
   "cell_type": "code",
   "execution_count": 15,
   "metadata": {},
   "outputs": [
    {
     "name": "stdout",
     "output_type": "stream",
     "text": [
      "46.75 accuracy with a standard deviation of 1.17\n",
      "[[ 84  36 138  60  68  14]\n",
      " [ 73  19 136  46 106  20]\n",
      " [ 69  73  35 153   9  61]\n",
      " [ 88  27 106  86  62  31]\n",
      " [ 80  55  84  80  22  79]\n",
      " [ 83  84  56  80  45  52]]\n",
      "1200\n"
     ]
    }
   ],
   "source": [
    "svc_preds = _getSVCPredictions()\n",
    "#print(len(svc_preds))"
   ]
  },
  {
   "cell_type": "markdown",
   "metadata": {},
   "source": [
    "## 2.2 Neural Network"
   ]
  },
  {
   "cell_type": "code",
   "execution_count": 21,
   "metadata": {},
   "outputs": [],
   "source": [
    "\n",
    "Y_train_mfcc_nn = to_categorical(Y_train_mfcc)"
   ]
  },
  {
   "cell_type": "code",
   "execution_count": 22,
   "metadata": {},
   "outputs": [],
   "source": [
    "X_train_cens, Y_train_cens = _getCENSTrainingData()\n",
    "Y_train_cens_nn = to_categorical(Y_train_cens)\n",
    "X_test_cens, cens_ids = _getCENSTestData() "
   ]
  },
  {
   "cell_type": "code",
   "execution_count": 23,
   "metadata": {},
   "outputs": [
    {
     "name": "stdout",
     "output_type": "stream",
     "text": [
      "MFCC features:  (2400, 340)\n",
      "CENS features:  (2400, 132)\n"
     ]
    }
   ],
   "source": [
    "print(\"MFCC features: \", X_train_mfcc.shape)\n",
    "print(\"CENS features: \", X_train_cens.shape)\n",
    "mfcc_features = 340\n",
    "cens_features = 132\n",
    "outputs = 6"
   ]
  },
  {
   "cell_type": "code",
   "execution_count": 28,
   "metadata": {},
   "outputs": [],
   "source": [
    "# create model \n",
    "def _getModel():\n",
    "    model = keras.models.Sequential()\n",
    "    model.add(keras.layers.Dense(400, input_dim=mfcc_features, activation='relu'))\n",
    "    model.add(keras.layers.Dense(outputs, activation='softmax'))\n",
    "    model.compile(loss='categorical_crossentropy', optimizer='adam', metrics=['accuracy'])\n",
    "    return model\n"
   ]
  },
  {
   "cell_type": "code",
   "execution_count": 47,
   "metadata": {},
   "outputs": [],
   "source": [
    "def _getNNPredictions(): \n",
    "   mfcc_estimator = KerasClassifier(model=_getModel())\n",
    "   kf = KFold(n_splits=5, random_state=5, shuffle=True)\n",
    "    #scores = cross_val_score(mfcc_estimator, X_train_mfcc, Y_train_mfcc_nn, cv=kfold)\n",
    "    #print(\"%0.2f accuracy with a standard deviation of %0.2f\" % (scores.mean()*100, scores.std()*100))\n",
    "   cv_preds = []\n",
    "   for train_index, test_index in kf.split(X_train_mfcc):\n",
    "      X_train, X_test = X_train_mfcc[train_index], X_train_mfcc[test_index]\n",
    "      y_train, y_test = Y_train_mfcc_nn[train_index], Y_train_mfcc_nn[test_index]\n",
    "      mfcc_estimator.fit(X_train,y_train,epochs=20, batch_size=35, verbose=0, validation_data =(X_test,y_test))\n",
    "      predictions = numpy.argmax(mfcc_estimator.predict(X_test), axis=1)\n",
    "      cv_preds.append(predictions)\n",
    "\n",
    "   cv_predictions = numpy.array(cv_preds).flatten()\n",
    "   nn_cm = confusion_matrix(Y_train_mfcc.astype(numpy.int64),cv_predictions)\n",
    "   print(nn_cm)\n",
    "\n",
    "   print(\"Predicting on new data...\")\n",
    "   _getModel().fit(X_train_mfcc,Y_train_mfcc_nn)\n",
    "   nn_preds = numpy.argmax(_getModel().predict(X_test_mfcc), axis=1)\n",
    "   return nn_preds\n",
    "   "
   ]
  },
  {
   "cell_type": "code",
   "execution_count": 48,
   "metadata": {},
   "outputs": [
    {
     "name": "stdout",
     "output_type": "stream",
     "text": [
      "15/15 [==============================] - 0s 2ms/step\n",
      "15/15 [==============================] - 0s 2ms/step\n",
      "15/15 [==============================] - 0s 2ms/step\n",
      "15/15 [==============================] - 0s 4ms/step\n",
      "15/15 [==============================] - 0s 1ms/step\n",
      "[[ 87  78  51  63  79  42]\n",
      " [ 45  70  75  86  79  45]\n",
      " [ 64  52  87  69  56  72]\n",
      " [ 42  76  75  89  83  35]\n",
      " [ 78  77  22  77  74  72]\n",
      " [ 89  29  75  46  36 125]]\n",
      "Predicting on new data...\n",
      "75/75 [==============================] - 1s 3ms/step - loss: 2.9028 - accuracy: 0.3587\n"
     ]
    }
   ],
   "source": [
    "nn_predictions = _getNNPredictions()"
   ]
  },
  {
   "cell_type": "code",
   "execution_count": null,
   "metadata": {},
   "outputs": [],
   "source": [
    "\n",
    "# Or this. Skip cross validation (Cell above) to run this\n",
    "#This is faster.\n",
    "#mfcc_model.fit(X_train_mfcc, Y_train_mfcc_nn, validation_split=0.33, epochs=100, batch_size=35)\n",
    "#mfcc_predictions = numpy.argmax(mfcc_model.predict(X_test_mfcc), axis=1)"
   ]
  },
  {
   "cell_type": "code",
   "execution_count": 22,
   "metadata": {},
   "outputs": [],
   "source": [
    "#_writePredictionsTofile(mfcc_ids,mfcc_predictions.tolist())"
   ]
  },
  {
   "cell_type": "markdown",
   "metadata": {},
   "source": [
    "## 2.3 Logistic Regression"
   ]
  },
  {
   "cell_type": "code",
   "execution_count": 52,
   "metadata": {},
   "outputs": [],
   "source": [
    "from sklearn.linear_model import LogisticRegression\n"
   ]
  },
  {
   "cell_type": "code",
   "execution_count": 54,
   "metadata": {},
   "outputs": [],
   "source": [
    "def _writePredictionsTofileLR(ids, predictions):\n",
    "    with open(\"predictionsLR.csv\", \"w\", newline=\"\") as file:\n",
    "        fieldnames = [\"id\", \"genre\"]\n",
    "        writer = csv.DictWriter(file, fieldnames=fieldnames)\n",
    "        writer.writeheader()\n",
    "        size = len(ids)\n",
    "        for x in range(size):\n",
    "            writer.writerow({\"id\": ids[x], \"genre\": predictions[x]})"
   ]
  },
  {
   "cell_type": "code",
   "execution_count": 64,
   "metadata": {},
   "outputs": [],
   "source": [
    "def _getLRPredictions():\n",
    "   lr = LogisticRegression(C=10, max_iter=10000)\n",
    "   kf = KFold(n_splits=5, shuffle=True)\n",
    "   scores = cross_val_score(lr, X_train_mfcc, Y_train_mfcc, cv=kf)\n",
    "   print(\"%0.2f accuracy with a standard deviation of %0.2f\" % (scores.mean()*100, scores.std()*100))\n",
    "   cv_preds = []\n",
    "   for train_index, test_index in kf.split(X_train_mfcc):\n",
    "      X_train, X_test = X_train_mfcc[train_index], X_train_mfcc[test_index]\n",
    "      y_train, y_test = Y_train_mfcc[train_index], Y_train_mfcc[test_index]\n",
    "      lr.fit(X_train,y_train)\n",
    "      predictions = cross_val_predict(lr, X_test, y_test, cv=kf)\n",
    "      cv_preds.append(predictions)\n",
    "   \n",
    "   cv_predictions = numpy.array(cv_preds).flatten()\n",
    "   lr_cm = confusion_matrix(Y_train_mfcc,cv_predictions)\n",
    "   print(lr_cm)\n",
    "\n",
    "   lr.fit(X_train_mfcc,Y_train_mfcc)\n",
    "   predictions = lr.predict(X_test_mfcc)\n",
    "\n",
    "   return predictions"
   ]
  },
  {
   "cell_type": "code",
   "execution_count": null,
   "metadata": {},
   "outputs": [],
   "source": [
    "lr_predictions = _getLRPredictions()\n"
   ]
  },
  {
   "cell_type": "code",
   "execution_count": 62,
   "metadata": {},
   "outputs": [],
   "source": [
    "_writePredictionsTofileLR(mfcc_ids,lr_predictions.tolist())"
   ]
  }
 ],
 "metadata": {
  "interpreter": {
   "hash": "61cfc4d88ed8783d204fa99e3631662cdeeae4f702a28df57607f00d496f4efe"
  },
  "kernelspec": {
   "display_name": "Python 3.10.4 64-bit (windows store)",
   "language": "python",
   "name": "python3"
  },
  "language_info": {
   "codemirror_mode": {
    "name": "ipython",
    "version": 3
   },
   "file_extension": ".py",
   "mimetype": "text/x-python",
   "name": "python",
   "nbconvert_exporter": "python",
   "pygments_lexer": "ipython3",
   "version": "3.10.4"
  },
  "orig_nbformat": 4
 },
 "nbformat": 4,
 "nbformat_minor": 2
}
